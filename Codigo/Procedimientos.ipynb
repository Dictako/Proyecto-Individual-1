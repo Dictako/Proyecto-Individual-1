{
 "cells": [
  {
   "cell_type": "code",
   "execution_count": null,
   "metadata": {},
   "outputs": [],
   "source": [
    "import pandas as pd\n",
    "import json\n",
    "import numpy as np\n",
    "import ast\n",
    "import os"
   ]
  },
  {
   "cell_type": "code",
   "execution_count": null,
   "metadata": {},
   "outputs": [],
   "source": [
    "data_items = pd.read_parquet('C:\\\\Users\\\\Alañ\\\\Documents\\\\Henry\\\\Proyecto 1\\\\Proyecto-Individual-1\\\\Data Limpia\\\\items_combinados.parquet')\n",
    "data_juegos = pd.read_json('C:\\\\Users\\\\Alañ\\\\Documents\\\\Henry\\\\Proyecto 1\\\\Proyecto-Individual-1\\\\Data Limpia\\\\juegos_steam.json')"
   ]
  },
  {
   "cell_type": "code",
   "execution_count": null,
   "metadata": {},
   "outputs": [],
   "source": [
    "data_items.columns"
   ]
  },
  {
   "cell_type": "code",
   "execution_count": null,
   "metadata": {},
   "outputs": [],
   "source": [
    "data_juegos.columns"
   ]
  },
  {
   "cell_type": "code",
   "execution_count": null,
   "metadata": {},
   "outputs": [],
   "source": [
    "#def PlayTimeGenre( genero : str ): Debe devolver año con mas horas jugadas para dicho género.\n",
    "\n",
    "def PlayTimeGenre(genero : str ):\n",
    "    horas_jugadas = {}\n",
    "    for i in range(0, 16):\n",
    "        posicion_juego = int(str(data_juegos.loc[data_juegos['id'] == data_items.loc[16, 'item_id']]['id'])[0:5])\n",
    "        if genero in data_juegos.loc[posicion_juego, 'genres']:\n",
    "            if data_juegos.loc[posicion_juego,'release_date'][0:4] in horas_jugadas:\n",
    "                horas_jugadas[data_juegos.loc[posicion_juego,'release_date'][0:4]] += data_items.loc[i, 'playtime_forever']\n",
    "            else:\n",
    "                horas_jugadas[data_juegos.loc[posicion_juego,'release_date'][0:4]] = data_items.loc[i, 'playtime_forever']\n",
    "    return horas_jugadas\n",
    "        "
   ]
  },
  {
   "cell_type": "code",
   "execution_count": null,
   "metadata": {},
   "outputs": [],
   "source": [
    "PlayTimeGenre('Action')"
   ]
  },
  {
   "cell_type": "code",
   "execution_count": null,
   "metadata": {},
   "outputs": [],
   "source": [
    "primer = data_juegos.loc[data_juegos['id'] == data_items.loc[16, 'item_id']]\n",
    "primer"
   ]
  },
  {
   "cell_type": "code",
   "execution_count": null,
   "metadata": {},
   "outputs": [],
   "source": [
    "data_items.loc[16, 'item_id']"
   ]
  },
  {
   "cell_type": "code",
   "execution_count": null,
   "metadata": {},
   "outputs": [],
   "source": [
    "data_items.loc[1, 'item_id']"
   ]
  }
 ],
 "metadata": {
  "kernelspec": {
   "display_name": "Python 3",
   "language": "python",
   "name": "python3"
  },
  "language_info": {
   "codemirror_mode": {
    "name": "ipython",
    "version": 3
   },
   "file_extension": ".py",
   "mimetype": "text/x-python",
   "name": "python",
   "nbconvert_exporter": "python",
   "pygments_lexer": "ipython3",
   "version": "3.11.3"
  }
 },
 "nbformat": 4,
 "nbformat_minor": 2
}
