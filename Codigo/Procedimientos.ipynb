{
 "cells": [
  {
   "cell_type": "code",
   "execution_count": null,
   "metadata": {},
   "outputs": [],
   "source": [
    "import pandas as pd\n",
    "import json\n",
    "import numpy as np\n",
    "import ast\n",
    "import os"
   ]
  },
  {
   "cell_type": "code",
   "execution_count": null,
   "metadata": {},
   "outputs": [],
   "source": [
    "datos_items = pd.read_csv('C:\\\\Users\\\\Alañ\\\\Documents\\\\Henry\\\\Proyecto 1\\\\Data\\\\usuarios_items_parte_2.csv')\n",
    "datos_juegos = pd.read_csv('C:\\\\Users\\\\Alañ\\\\Documents\\\\Henry\\\\Proyecto 1\\\\Data\\\\Juedos_steam.csv')\n",
    "datos_review = pd.read_csv('C:\\\\Users\\\\Alañ\\\\Documents\\\\Henry\\\\Proyecto 1\\\\Data\\\\recomendaciones_review_usuarios.csv')\n"
   ]
  },
  {
   "cell_type": "code",
   "execution_count": null,
   "metadata": {},
   "outputs": [],
   "source": [
    "datos_items.columns"
   ]
  },
  {
   "cell_type": "code",
   "execution_count": null,
   "metadata": {},
   "outputs": [],
   "source": [
    "datos_juegos.columns"
   ]
  },
  {
   "cell_type": "code",
   "execution_count": null,
   "metadata": {},
   "outputs": [],
   "source": [
    "datos_review.columns"
   ]
  },
  {
   "cell_type": "code",
   "execution_count": null,
   "metadata": {},
   "outputs": [],
   "source": [
    "print(datos_juegos[datos_juegos['id.1'] == 10])"
   ]
  },
  {
   "cell_type": "code",
   "execution_count": null,
   "metadata": {},
   "outputs": [],
   "source": [
    "def PlayTimeGenre( genero: str):\n",
    "    lista_años = pd.DataFrame()\n",
    "    for j in range(0, len(datos_items)):\n",
    "        if datos_items.loc[j, 'item_id'] in datos_juegos['id.1']:\n",
    "            juego = datos_juegos.loc[datos_juegos['id.1']== datos_items.loc[j, 'item_id']]\n",
    "            generos = str(juego['genres'])\n",
    "            if genero in generos:\n",
    "                if str(juego['release_date'])[9:14][0] == '2':\n",
    "                    año = str(juego['release_date'])[9:13]\n",
    "                elif str(juego['release_date'])[9:14][0] == ' ':\n",
    "                    año = str(juego['release_date'])[10:14]\n",
    "                cantidad = datos_items.loc[j, 'playtime_forever']\n",
    "                if año in lista_años.columns:\n",
    "                    lista_años[año] += [cantidad]\n",
    "                else:\n",
    "                    lista_años[año] = [cantidad]\n",
    "    año = 0\n",
    "    cantidad = 0            \n",
    "    for i in lista_años.columns:\n",
    "        if lista_años.loc[0, i] > cantidad:\n",
    "            cantidad = lista_años.loc[0, i]\n",
    "            año = i\n",
    "    return print('El genero', genero, 'tiene más cantidad de hora en los juegos lanzados en el año:', año, 'con una cantidad de', cantidad, 'horas.')\n"
   ]
  },
  {
   "cell_type": "code",
   "execution_count": null,
   "metadata": {},
   "outputs": [],
   "source": [
    "def UserForGenre( genero : str ):\n",
    "    lista_usuarios_años  = pd.DataFrame()\n",
    "    user_max = ' '\n",
    "    user_temp = ' '\n",
    "    desde_max = -1\n",
    "    hasta_max = -1\n",
    "    desde_temp = 0\n",
    "    cantidad_horas_max = 0\n",
    "    cantidad_horas_temp = 0\n",
    "\n",
    "    for j in range(0, 1000):\n",
    "        if user_temp != datos_items.loc[j, 'user_id']:\n",
    "            if cantidad_horas_temp > cantidad_horas_max:\n",
    "                cantidad_horas_max = cantidad_horas_temp\n",
    "                user_max = user_temp\n",
    "                hasta_max = j-1 \n",
    "                desde_max = desde_temp\n",
    "\n",
    "            cantidad_horas_temp = 0\n",
    "            desde_temp = 0\n",
    "            user_temp = datos_items.loc[j, 'user_id']\n",
    "\n",
    "        if desde_temp == 0:\n",
    "            desde_temp = j\n",
    "\n",
    "        if datos_items.loc[j, 'item_id'] in datos_juegos['id.1']:\n",
    "            juego = datos_juegos.loc[datos_juegos['id.1']== datos_items.loc[j, 'item_id']]\n",
    "            generos = str(juego['genres'])\n",
    "            if genero in generos:\n",
    "                cantidad_horas_temp += datos_items.loc[j,'playtime_forever']\n",
    "\n",
    "    lista_usuarios_años = pd.DataFrame()\n",
    "\n",
    "    for j in range(desde_max, hasta_max):\n",
    "        if datos_items.loc[j, 'item_id'] in datos_juegos['id.1']:\n",
    "            juego = datos_juegos.loc[datos_juegos['id.1']== datos_items.loc[j, 'item_id']]\n",
    "            generos = str(juego['genres'])\n",
    "            if genero in generos:\n",
    "                if str(juego['release_date'])[9:14][0] == '2':\n",
    "                    año = str(juego['release_date'])[9:13]\n",
    "                elif str(juego['release_date'])[9:14][0] == ' ':\n",
    "                    año = str(juego['release_date'])[10:14]\n",
    "                cantidad = datos_items.loc[j,'playtime_forever']\n",
    "                if año in lista_usuarios_años.columns:\n",
    "                    lista_usuarios_años[año] += [cantidad]\n",
    "                else:\n",
    "                    lista_usuarios_años[año] = [cantidad]\n",
    "    lista_final_usuario = []\n",
    "    for i in lista_usuarios_años.columns:\n",
    "        año = i\n",
    "        horas = lista_usuarios_años.loc[0, i]\n",
    "        lista_final_usuario.append ({año: horas})\n",
    "            \n",
    "    return print('Usuario con más horas jugadas para el genero', genero, 'es', user_max,'y esta es la cantidad por años', lista_final_usuario)"
   ]
  },
  {
   "cell_type": "code",
   "execution_count": 226,
   "metadata": {},
   "outputs": [],
   "source": [
    "def UsersRecommend( año : int ):\n",
    "    lista_mejores_juegos ={'1ro': ['',0], '2do':['',0], '3ro':['',0]}\n",
    "    todos_juegos = {}\n",
    "    for j in range(len(datos_review)):\n",
    "        juego = datos_juegos.loc[datos_juegos['id.1']== datos_review.loc[j, 'item_id']]\n",
    "        if str(año) in (str(juego['release_date'])[9:14]):\n",
    "            if datos_review.loc[j, 'item_id'] in todos_juegos:\n",
    "                if datos_review.loc[j, 'review'] == '2':\n",
    "                    todos_juegos[datos_review.loc[j, 'item_id']][1]  +=1\n",
    "                todos_juegos[datos_review.loc[j, 'item_id']][2]  +=1\n",
    "            else:\n",
    "                todos_juegos[datos_review.loc[j, 'item_id']] = [datos_review.loc[j, 'item_id'],0,1]\n",
    "    todos_juegos = pd.DataFrame(todos_juegos)\n",
    "    for i in range(0, len(todos_juegos)):\n",
    "        calculo = (todos_juegos.loc[1, todos_juegos.columns[i]]*100/todos_juegos.loc[2, todos_juegos.columns[i]])\n",
    "        if calculo > lista_mejores_juegos['1ro'][1]:\n",
    "            lista_mejores_juegos['3ro'] = lista_mejores_juegos['2do']\n",
    "            lista_mejores_juegos['2do'] = lista_mejores_juegos['1ro']\n",
    "            lista_mejores_juegos['1ro'] = [todos_juegos.loc[0, todos_juegos.columns[i]],calculo]\n",
    "        elif calculo > lista_mejores_juegos['2do'][1]:\n",
    "            lista_mejores_juegos['3ro'] = lista_mejores_juegos['2do']\n",
    "            lista_mejores_juegos['2do'] = [todos_juegos.loc[0, todos_juegos.columns[i]],calculo]\n",
    "        elif calculo > lista_mejores_juegos['3ro'][1]:\n",
    "            lista_mejores_juegos['3ro'] = [todos_juegos.loc[0, todos_juegos.columns[i]],calculo]\n",
    "    return lista_mejores_juegos"
   ]
  },
  {
   "cell_type": "code",
   "execution_count": 227,
   "metadata": {},
   "outputs": [
    {
     "data": {
      "text/plain": [
       "{'1ro': [10, 96.49122807017544],\n",
       " '2do': [3730, 83.33333333333333],\n",
       " '3ro': [6910, 82.3529411764706]}"
      ]
     },
     "execution_count": 227,
     "metadata": {},
     "output_type": "execute_result"
    }
   ],
   "source": [
    "UsersRecommend(2000)"
   ]
  },
  {
   "cell_type": "code",
   "execution_count": 245,
   "metadata": {},
   "outputs": [],
   "source": [
    "def UsersWorstDeveloper( año : int ):\n",
    "    lista_peores_developers ={'1ro': ['',0], '2do':['',0], '3ro':['',0]}\n",
    "    todos_developers = {}\n",
    "    for j in range(len(datos_review)):\n",
    "        juego = datos_juegos.loc[datos_juegos['id.1']== datos_review.loc[j, 'item_id']]\n",
    "        if str(año) in (str(juego['release_date'])[9:14]):\n",
    "            if str(juego['developer'])[10:-31] in todos_developers:\n",
    "                if datos_review.loc[j, 'review'] == '0':\n",
    "                    todos_developers[str(juego['developer'])[10:-31]][0] +=1\n",
    "                todos_developers[str(juego['developer'])[10:-31]][1] +=1\n",
    "            else:\n",
    "                todos_developers[str(juego['developer'])[10:-31]] = [1, 1]\n",
    "    todos_developers = pd.DataFrame(todos_developers)\n",
    "    for i in range(0, len(todos_developers)):\n",
    "        calculo = (todos_developers.loc[0, todos_developers.columns[i]]*100/todos_developers.loc[1, todos_developers.columns[i]])\n",
    "        if calculo > lista_peores_developers['1ro'][1]:\n",
    "            lista_peores_developers['3ro'] = lista_peores_developers['2do']\n",
    "            lista_peores_developers['2do'] = lista_peores_developers['1ro']\n",
    "            lista_peores_developers['1ro'] = [todos_developers.columns[i],calculo]\n",
    "        elif calculo > lista_peores_developers['2do'][1]:\n",
    "            lista_peores_developers['3ro'] = lista_peores_developers['2do']\n",
    "            lista_peores_developers['2do'] = [todos_developers.columns[i],calculo]\n",
    "        elif calculo > lista_peores_developers['3ro'][1]:\n",
    "            lista_peores_developers['3ro'] = [todos_developers.columns[i],calculo]\n",
    "    return lista_peores_developers"
   ]
  },
  {
   "cell_type": "code",
   "execution_count": 246,
   "metadata": {},
   "outputs": [
    {
     "data": {
      "text/plain": [
       "{'1ro': ['ohemia Interactive', 1.1235955056179776],\n",
       " '2do': ['TaleWorlds Entertainment', 0.4716981132075472],\n",
       " '3ro': ['', 0]}"
      ]
     },
     "execution_count": 246,
     "metadata": {},
     "output_type": "execute_result"
    }
   ],
   "source": [
    "UsersWorstDeveloper(2010)"
   ]
  },
  {
   "cell_type": "code",
   "execution_count": 235,
   "metadata": {},
   "outputs": [],
   "source": [
    "def sentiment_analysis( empresa_desarrolladora : str ):\n",
    "    Negativo = 0\n",
    "    Neutro = 0\n",
    "    Positivo = 0\n",
    "    for j in range(len(datos_review)):\n",
    "        juego = datos_juegos.loc[datos_juegos['id.1']== datos_review.loc[j, 'item_id']]\n",
    "        if str(juego['publisher'])[9:-31] == empresa_desarrolladora:\n",
    "            if datos_review.loc[j, 'review'] == '0':\n",
    "                Negativo += 1\n",
    "            elif datos_review.loc[j, 'review'] == '1':\n",
    "                Neutro += 1\n",
    "            elif datos_review.loc[j, 'review'] == '2':\n",
    "                Positivo += 1\n",
    "    return {empresa_desarrolladora: str('Negativo=' + str(Negativo) +', Neutro=' + str(Neutro) + ', Positivo=' + str(Positivo))}"
   ]
  },
  {
   "cell_type": "code",
   "execution_count": 236,
   "metadata": {},
   "outputs": [
    {
     "data": {
      "text/plain": [
       "{'Valve': 'Negativo=0, Neutro=6, Positivo=7004'}"
      ]
     },
     "execution_count": 236,
     "metadata": {},
     "output_type": "execute_result"
    }
   ],
   "source": [
    "sentiment_analysis('Valve')"
   ]
  }
 ],
 "metadata": {
  "kernelspec": {
   "display_name": "Python 3",
   "language": "python",
   "name": "python3"
  },
  "language_info": {
   "codemirror_mode": {
    "name": "ipython",
    "version": 3
   },
   "file_extension": ".py",
   "mimetype": "text/x-python",
   "name": "python",
   "nbconvert_exporter": "python",
   "pygments_lexer": "ipython3",
   "version": "3.11.3"
  }
 },
 "nbformat": 4,
 "nbformat_minor": 2
}
