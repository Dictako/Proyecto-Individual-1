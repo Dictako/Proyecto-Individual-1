{
 "cells": [
  {
   "cell_type": "code",
   "execution_count": null,
   "metadata": {},
   "outputs": [],
   "source": [
    "import pandas as pd\n",
    "import numpy as np\n",
    "import os\n",
    "import pyarrow as pa\n",
    "import pyarrow.parquet as pq"
   ]
  },
  {
   "cell_type": "code",
   "execution_count": null,
   "metadata": {},
   "outputs": [],
   "source": [
    "ruta_review = os.path.join('C:\\\\Users\\\\Alañ\\\\Documents\\\\Henry\\\\Proyecto 1\\\\Proyecto-Individual-1\\\\Data', 'australian_user_reviews.json')\n",
    "with open(ruta_review, 'r', encoding='utf-8') as archivo:\n",
    "    lineas = archivo.readlines()\n",
    "texto = []\n",
    "for linea in lineas:\n",
    "    texto_de_linea = linea.replace(\"'\", '\"').replace('\"', '').replace('user_id: ',  '\"user_id\": \"').replace(', user_url: ',  '\", \"user_url\": \"').replace(', reviews:',  '\", \"reviews\":').replace('funny:',  '\"funny\": \"').replace(', posted:',  '\", \"posted\": \"').replace(', last_edited:',  '\", \"last_edited\": \"').replace(', item_id:',  '\", \"item_id\": \"').replace(', helpful:',  '\", \"helpful\": \"').replace(', recommend:',  '\", \"recommend\": \"').replace(', review:',  '\", \"review\": \"').replace('\" ', '\"').replace('\"\"', '\" \"').replace('},', '\"},').replace('}]', '\"}]').replace(\"\\\\\", \"\")\n",
    "    texto.append(texto_de_linea)\n",
    "\n",
    "ruta_nueva_reviews = os.path.join('C:\\\\Users\\\\Alañ\\\\Documents\\\\Henry\\\\Proyecto 1\\\\Proyecto-Individual-1\\\\Data Limpia', 'reviews_usuarios.json')\n",
    "archivo = open(ruta_nueva_reviews, \"w\", encoding='utf-8')\n",
    "archivo.write('[' + '\\n')\n",
    "for i in range(len(texto)-1):\n",
    "    archivo.write(texto[i] + ',')\n",
    "archivo.write(texto[len(texto)-1])\n",
    "archivo.write(']' + '\\n')\n",
    "archivo.close()"
   ]
  },
  {
   "cell_type": "code",
   "execution_count": null,
   "metadata": {},
   "outputs": [],
   "source": [
    "ruta_juegos = os.path.join('C:\\\\Users\\\\Alañ\\\\Documents\\\\Henry\\\\Proyecto 1\\\\Proyecto-Individual-1\\\\Data', 'australian_users_items.json')\n",
    "with open(ruta_juegos, 'r', encoding='utf-8') as archivo:\n",
    "    lineas = archivo.readlines()\n",
    "texto = []\n",
    "for linea in lineas:\n",
    "    texto_de_linea = linea.replace(\"'\", '\"').replace('\"', '').replace('user_id: ',  '\"user_id\": \"').replace(', items_count: ',  '\", \"items_count\": \"').replace(', steam_id:',  '\", \"steam_id\": \"').replace(', user_url:',  '\", \"user_url\": \"').replace(', items:',  '\", \"items\":').replace('item_id:',  '\"item_id\": \"').replace(', item_name:',  '\", \"item_name\": \"').replace(', playtime_forever:',  '\", \"playtime_forever\": \"').replace(', playtime_2weeks:',  '\", \"playtime_2weeks\": \"').replace('\" ', '\"').replace('\"\"', '\" \"').replace('},', '\"},').replace('}]', '\"}]').replace(\"\\\\\", \"\")\n",
    "    texto.append(texto_de_linea)\n",
    "\n",
    "\n",
    "ruta_nueva_juegos = os.path.join('C:\\\\Users\\\\Alañ\\\\Documents\\\\Henry\\\\Proyecto 1\\\\Proyecto-Individual-1\\\\Data Limpia', 'usuarios_items.json')\n",
    "archivo = open(ruta_nueva_juegos, \"w\", encoding='utf-8')\n",
    "archivo.write('[' + '\\n')\n",
    "for i in range(len(texto)-1):\n",
    "    archivo.write(texto[i] + ',')\n",
    "archivo.write(texto[len(texto)-1])\n",
    "archivo.write(']' + '\\n')\n",
    "archivo.close()"
   ]
  },
  {
   "cell_type": "code",
   "execution_count": null,
   "metadata": {},
   "outputs": [],
   "source": [
    "items = pd.read_json('C:\\\\Users\\\\Alañ\\\\Documents\\\\Henry\\\\Proyecto 1\\\\Proyecto-Individual-1\\\\Data Limpia\\\\usuarios_items.json')"
   ]
  },
  {
   "cell_type": "code",
   "execution_count": null,
   "metadata": {},
   "outputs": [],
   "source": [
    "review = pd.read_json('C:\\\\Users\\\\Alañ\\\\Documents\\\\Henry\\\\Proyecto 1\\\\Proyecto-Individual-1\\\\Data Limpia\\\\reviews_usuarios.json')"
   ]
  },
  {
   "cell_type": "code",
   "execution_count": null,
   "metadata": {},
   "outputs": [],
   "source": [
    "lista_review = []\n",
    "for i in range(0, len(review)):\n",
    "    item = pd.DataFrame(review.loc[i]['reviews'])\n",
    "    for j in range(0, len(item)):\n",
    "        lista_review.append(pd.Series([review.loc[i,'user_id'], review.loc[i,'user_url'], item.loc[j,'funny'], item.loc[j,\"posted\"], item.loc[j,\"last_edited\"], item.loc[j,\"item_id\"], item.loc[j,\"helpful\"], item.loc[j,\"recommend\"], item.loc[j,'review']],\n",
    "                                      index= ['user_id', 'user_url', 'funny', \"posted\",\"last_edited\", \"item_id\", \"helpful\", \"recommend\", 'review']))\n",
    "\n",
    "review_para_csv = pd.DataFrame(lista_review)"
   ]
  },
  {
   "cell_type": "code",
   "execution_count": null,
   "metadata": {},
   "outputs": [],
   "source": [
    "review_para_csv.to_csv('C:\\\\Users\\\\Alañ\\\\Documents\\\\Henry\\\\Proyecto 1\\\\Proyecto-Individual-1\\\\Data Limpia\\\\reviews_limpio.csv', index= False)"
   ]
  },
  {
   "cell_type": "code",
   "execution_count": null,
   "metadata": {},
   "outputs": [],
   "source": [
    "lista_item = []\n",
    "for i in range(0, 10000):\n",
    "    item = pd.DataFrame(items.loc[i]['items'])\n",
    "    for j in range(0, len(item)):\n",
    "        if item.loc[j,\"playtime_forever\"] != \"0\":\n",
    "            lista_item.append(pd.Series([items.loc[i,'user_id'], items.loc[i,'user_url'], item.loc[j,'item_id'], item.loc[j,\"item_name\"], item.loc[j,\"playtime_forever\"], item.loc[j,\"playtime_2weeks\"]],\n",
    "                                        index= ['user_id', 'user_url', 'item_id', \"item_name\",\"playtime_forever\", \"playtime_2weeks\"]))\n",
    "\n"
   ]
  },
  {
   "cell_type": "code",
   "execution_count": null,
   "metadata": {},
   "outputs": [],
   "source": [
    "for i in range(10001, 20000):\n",
    "    item = pd.DataFrame(items.loc[i]['items'])\n",
    "    for j in range(0, len(item)):\n",
    "        if item.loc[j,\"playtime_forever\"] != \"0\":\n",
    "            lista_item.append(pd.Series([items.loc[i,'user_id'], items.loc[i,'user_url'], item.loc[j,'item_id'], item.loc[j,\"item_name\"], item.loc[j,\"playtime_forever\"], item.loc[j,\"playtime_2weeks\"]],\n",
    "                                        index= ['user_id', 'user_url', 'item_id', \"item_name\",\"playtime_forever\", \"playtime_2weeks\"]))\n",
    "\n",
    "items_para_parquet = pd.DataFrame(lista_item)\n",
    "table = pa.Table.from_pandas(items_para_parquet)"
   ]
  },
  {
   "cell_type": "code",
   "execution_count": null,
   "metadata": {},
   "outputs": [],
   "source": [
    "pq.write_table(table, 'C:\\\\Users\\\\Alañ\\\\Documents\\\\Henry\\\\Proyecto 1\\\\Proyecto-Individual-1\\\\Data Limpia\\\\items_limpio_parte_1.parquet')"
   ]
  },
  {
   "cell_type": "code",
   "execution_count": null,
   "metadata": {},
   "outputs": [],
   "source": [
    "lista_item = []\n",
    "for i in range(20001, 30000):\n",
    "    item = pd.DataFrame(items.loc[i]['items'])\n",
    "    for j in range(0, len(item)):\n",
    "        if item.loc[j,\"playtime_forever\"] != \"0\":\n",
    "            lista_item.append(pd.Series([items.loc[i,'user_id'], items.loc[i,'user_url'], item.loc[j,'item_id'], item.loc[j,\"item_name\"], item.loc[j,\"playtime_forever\"], item.loc[j,\"playtime_2weeks\"]],\n",
    "                                        index= ['user_id', 'user_url', 'item_id', \"item_name\",\"playtime_forever\", \"playtime_2weeks\"]))\n"
   ]
  },
  {
   "cell_type": "code",
   "execution_count": null,
   "metadata": {},
   "outputs": [],
   "source": [
    "for i in range(30001, 40000):\n",
    "    item = pd.DataFrame(items.loc[i]['items'])\n",
    "    for j in range(0, len(item)):\n",
    "        if item.loc[j,\"playtime_forever\"] != \"0\":\n",
    "            lista_item.append(pd.Series([items.loc[i,'user_id'], items.loc[i,'user_url'], item.loc[j,'item_id'], item.loc[j,\"item_name\"], item.loc[j,\"playtime_forever\"], item.loc[j,\"playtime_2weeks\"]],\n",
    "                                        index= ['user_id', 'user_url', 'item_id', \"item_name\",\"playtime_forever\", \"playtime_2weeks\"]))\n",
    "\n",
    "items_para_parquet = pd.DataFrame(lista_item)\n",
    "table = pa.Table.from_pandas(items_para_parquet)"
   ]
  },
  {
   "cell_type": "code",
   "execution_count": null,
   "metadata": {},
   "outputs": [],
   "source": [
    "pq.write_table(table, 'C:\\\\Users\\\\Alañ\\\\Documents\\\\Henry\\\\Proyecto 1\\\\Proyecto-Individual-1\\\\Data Limpia\\\\items_limpio_parte_2.parquet')"
   ]
  },
  {
   "cell_type": "code",
   "execution_count": null,
   "metadata": {},
   "outputs": [],
   "source": [
    "lista_item = []\n",
    "for i in range(40001, 50000):\n",
    "    item = pd.DataFrame(items.loc[i]['items'])\n",
    "    for j in range(0, len(item)):\n",
    "        if item.loc[j,\"playtime_forever\"] != \"0\":\n",
    "            lista_item.append(pd.Series([items.loc[i,'user_id'], items.loc[i,'user_url'], item.loc[j,'item_id'], item.loc[j,\"item_name\"], item.loc[j,\"playtime_forever\"], item.loc[j,\"playtime_2weeks\"]],\n",
    "                                        index= ['user_id', 'user_url', 'item_id', \"item_name\",\"playtime_forever\", \"playtime_2weeks\"]))\n"
   ]
  },
  {
   "cell_type": "code",
   "execution_count": null,
   "metadata": {},
   "outputs": [],
   "source": [
    "for i in range(50001, 60000):\n",
    "    item = pd.DataFrame(items.loc[i]['items'])\n",
    "    for j in range(0, len(item)):\n",
    "        if item.loc[j,\"playtime_forever\"] != \"0\":\n",
    "            lista_item.append(pd.Series([items.loc[i,'user_id'], items.loc[i,'user_url'], item.loc[j,'item_id'], item.loc[j,\"item_name\"], item.loc[j,\"playtime_forever\"], item.loc[j,\"playtime_2weeks\"]],\n",
    "                                        index= ['user_id', 'user_url', 'item_id', \"item_name\",\"playtime_forever\", \"playtime_2weeks\"]))\n",
    "\n",
    "items_para_parquet = pd.DataFrame(lista_item)\n",
    "table = pa.Table.from_pandas(items_para_parquet)"
   ]
  },
  {
   "cell_type": "code",
   "execution_count": null,
   "metadata": {},
   "outputs": [],
   "source": [
    "pq.write_table(table, 'C:\\\\Users\\\\Alañ\\\\Documents\\\\Henry\\\\Proyecto 1\\\\Proyecto-Individual-1\\\\Data Limpia\\\\items_limpio_parte_3.parquet')"
   ]
  },
  {
   "cell_type": "code",
   "execution_count": null,
   "metadata": {},
   "outputs": [],
   "source": [
    "lista_item = []\n",
    "for i in range(60001, 70000):\n",
    "    item = pd.DataFrame(items.loc[i]['items'])\n",
    "    for j in range(0, len(item)):\n",
    "        if item.loc[j,\"playtime_forever\"] != \"0\":\n",
    "            lista_item.append(pd.Series([items.loc[i,'user_id'], items.loc[i,'user_url'], item.loc[j,'item_id'], item.loc[j,\"item_name\"], item.loc[j,\"playtime_forever\"], item.loc[j,\"playtime_2weeks\"]],\n",
    "                                        index= ['user_id', 'user_url', 'item_id', \"item_name\",\"playtime_forever\", \"playtime_2weeks\"]))\n"
   ]
  },
  {
   "cell_type": "code",
   "execution_count": null,
   "metadata": {},
   "outputs": [],
   "source": [
    "for i in range(70001, 80000):\n",
    "    item = pd.DataFrame(items.loc[i]['items'])\n",
    "    for j in range(0, len(item)):\n",
    "        if item.loc[j,\"playtime_forever\"] != \"0\":\n",
    "            lista_item.append(pd.Series([items.loc[i,'user_id'], items.loc[i,'user_url'], item.loc[j,'item_id'], item.loc[j,\"item_name\"], item.loc[j,\"playtime_forever\"], item.loc[j,\"playtime_2weeks\"]],\n",
    "                                        index= ['user_id', 'user_url', 'item_id', \"item_name\",\"playtime_forever\", \"playtime_2weeks\"]))\n",
    "\n",
    "items_para_parquet = pd.DataFrame(lista_item)\n",
    "table = pa.Table.from_pandas(items_para_parquet)"
   ]
  },
  {
   "cell_type": "code",
   "execution_count": null,
   "metadata": {},
   "outputs": [],
   "source": [
    "for i in range(80001, len(items)):\n",
    "    item = pd.DataFrame(items.loc[i]['items'])\n",
    "    for j in range(0, len(item)):\n",
    "        if item.loc[j,\"playtime_forever\"] != \"0\":\n",
    "            lista_item.append(pd.Series([items.loc[i,'user_id'], items.loc[i,'user_url'], item.loc[j,'item_id'], item.loc[j,\"item_name\"], item.loc[j,\"playtime_forever\"], item.loc[j,\"playtime_2weeks\"]],\n",
    "                                        index= ['user_id', 'user_url', 'item_id', \"item_name\",\"playtime_forever\", \"playtime_2weeks\"]))\n",
    "\n",
    "items_para_parquet = pd.DataFrame(lista_item)\n",
    "table = pa.Table.from_pandas(items_para_parquet)"
   ]
  },
  {
   "cell_type": "code",
   "execution_count": null,
   "metadata": {},
   "outputs": [],
   "source": [
    "pq.write_table(table, 'C:\\\\Users\\\\Alañ\\\\Documents\\\\Henry\\\\Proyecto 1\\\\Proyecto-Individual-1\\\\Data Limpia\\\\items_limpio_parte_4.parquet')"
   ]
  },
  {
   "cell_type": "code",
   "execution_count": null,
   "metadata": {},
   "outputs": [],
   "source": [
    "ruta_juegos = os.path.join('C:\\\\Users\\\\Alañ\\\\Documents\\\\Henry\\\\Proyecto 1\\\\Proyecto-Individual-1\\\\Data', 'output_steam_games.json')\n",
    "with open(ruta_juegos, 'r', encoding='utf-8') as archivo:\n",
    "    lineas = archivo.readlines()\n",
    "texto = []\n",
    "for linea in lineas:\n",
    "    texto_de_linea = linea.replace(\"'\", '\"').replace('\"', '').replace('publisher: ',  '\"publisher\": \"').replace(', genres: ',  '\", \"genres\": \"').replace(', app_name:',  '\", \"app_name\": \"').replace(', title:',  '\", \"title\": \"').replace(', url:',  '\", \"url\": \"').replace(', release_date:',  '\", \"release_date\": \"').replace(', tags:',  '\", \"tags\": \"').replace(', reviews_url:',  '\", \"reviews_url\": \"').replace(', specs:',  '\", \"specs\": \"').replace(', price:',  '\", \"price\": \"').replace(', early_access:',  '\", \"early_access\": \"').replace(', id:',  '\", \"id\": \"').replace(', developer:',  '\", \"developer\": \"').replace('NaN', ' ').replace('\" ', '\"').replace('\"\"', '\" \"').replace('}', '\"}').replace('}]', '\"}]').replace(\"\\\\\", \"\")\n",
    "    texto.append(texto_de_linea)\n",
    "\n",
    "\n",
    "ruta_nueva_juegos = os.path.join('C:\\\\Users\\\\Alañ\\\\Documents\\\\Henry\\\\Proyecto 1\\\\Proyecto-Individual-1\\\\Data Limpia', 'juegos_steam.json')\n",
    "archivo = open(ruta_nueva_juegos, \"w\", encoding='utf-8')\n",
    "archivo.write('[' + '\\n')\n",
    "for i in range(len(texto)-1):\n",
    "    archivo.write(texto[i] + ',')\n",
    "archivo.write(texto[len(texto)-1])\n",
    "archivo.write(']' + '\\n')\n",
    "archivo.close()"
   ]
  },
  {
   "cell_type": "code",
   "execution_count": 51,
   "metadata": {},
   "outputs": [],
   "source": [
    "juegos = pd.read_json('C:\\\\Users\\\\Alañ\\\\Documents\\\\Henry\\\\Proyecto 1\\\\Proyecto-Individual-1\\\\Data Limpia\\\\juegos_steam.json')"
   ]
  }
 ],
 "metadata": {
  "kernelspec": {
   "display_name": "Python 3",
   "language": "python",
   "name": "python3"
  },
  "language_info": {
   "codemirror_mode": {
    "name": "ipython",
    "version": 3
   },
   "file_extension": ".py",
   "mimetype": "text/x-python",
   "name": "python",
   "nbconvert_exporter": "python",
   "pygments_lexer": "ipython3",
   "version": "3.11.3"
  }
 },
 "nbformat": 4,
 "nbformat_minor": 2
}
