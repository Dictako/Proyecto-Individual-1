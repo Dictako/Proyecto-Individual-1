{
 "cells": [
  {
   "cell_type": "code",
   "execution_count": 1,
   "metadata": {},
   "outputs": [],
   "source": [
    "import pandas as pd\n",
    "import json\n",
    "import numpy as np\n",
    "import ast\n",
    "import os"
   ]
  },
  {
   "cell_type": "code",
   "execution_count": 3,
   "metadata": {},
   "outputs": [],
   "source": [
    "ruta_review = os.path.join('C:\\\\Users\\\\Alañ\\\\Documents\\\\Henry\\\\Proyecto 1\\\\Proyecto-Individual-1\\\\Data', 'australian_user_reviews.json')\n",
    "with open(ruta_review, 'r', encoding='utf-8') as archivo:\n",
    "    lineas = archivo.readlines()\n",
    "texto = []\n",
    "for linea in lineas:\n",
    "    texto_de_linea = linea.replace(\"'\", '\"').replace('\"', '').replace('user_id: ',  '\"user_id\": \"').replace(', user_url: ',  '\", \"user_url\": \"').replace(', reviews:',  '\", \"reviews\":').replace('funny:',  '\"funny\": \"').replace(', posted:',  '\", \"posted\": \"').replace(', last_edited:',  '\", \"last_edited\": \"').replace(', item_id:',  '\", \"item_id\": \"').replace(', helpful:',  '\", \"helpful\": \"').replace(', recommend:',  '\", \"recommend\": \"').replace(', review:',  '\", \"review\": \"').replace('\" ', '\"').replace('\"\"', '\" \"').replace('},', '\"},').replace('}]', '\"}]').replace(\"\\\\\", \"\")\n",
    "    texto.append(texto_de_linea)\n",
    "\n",
    "ruta_nueva_reviews = os.path.join('C:\\\\Users\\\\Alañ\\\\Documents\\\\Henry\\\\Proyecto 1\\\\Proyecto-Individual-1\\\\Data Limpia', 'reviews_usuarios.json')\n",
    "archivo = open(ruta_nueva_reviews, \"w\", encoding='utf-8')\n",
    "archivo.write('[' + '\\n')\n",
    "for i in range(len(texto)-1):\n",
    "    archivo.write(texto[i] + ',')\n",
    "archivo.write(texto[len(texto)-1])\n",
    "archivo.write(']' + '\\n')\n",
    "archivo.close()"
   ]
  },
  {
   "cell_type": "code",
   "execution_count": null,
   "metadata": {},
   "outputs": [],
   "source": []
  }
 ],
 "metadata": {
  "kernelspec": {
   "display_name": "Python 3",
   "language": "python",
   "name": "python3"
  },
  "language_info": {
   "codemirror_mode": {
    "name": "ipython",
    "version": 3
   },
   "file_extension": ".py",
   "mimetype": "text/x-python",
   "name": "python",
   "nbconvert_exporter": "python",
   "pygments_lexer": "ipython3",
   "version": "3.11.3"
  }
 },
 "nbformat": 4,
 "nbformat_minor": 2
}
