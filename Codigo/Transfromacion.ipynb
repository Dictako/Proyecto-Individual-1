{
 "cells": [
  {
   "cell_type": "code",
   "execution_count": null,
   "metadata": {},
   "outputs": [],
   "source": [
    "import pandas as pd\n",
    "import json\n",
    "import numpy as np\n",
    "import ast\n",
    "import os"
   ]
  },
  {
   "cell_type": "code",
   "execution_count": 7,
   "metadata": {},
   "outputs": [],
   "source": [
    "ruta_review = os.path.join('C:\\\\Users\\\\Alañ\\\\Documents\\\\Henry\\\\Proyecto 1\\\\Data', 'australian_user_reviews.json')\n",
    "with open(ruta_review, 'r', encoding='utf-8') as archivo:\n",
    "    lineas = archivo.readlines()\n",
    "texto = []\n",
    "for linea in lineas:\n",
    "    texto_de_linea = linea.replace(\"'\", '\"').replace('\"', '').replace('user_id: ',  '\"user_id\": \"').replace(', user_url: ',  '\", \"user_url\": \"').replace(', reviews:',  '\", \"reviews\":').replace('funny:',  '\"funny\": \"').replace(', posted:',  '\", \"posted\": \"').replace(', last_edited:',  '\", \"last_edited\": \"').replace(', item_id:',  '\", \"item_id\": \"').replace(', helpful:',  '\", \"helpful\": \"').replace(', recommend:',  '\", \"recommend\": \"').replace(', review:',  '\", \"review\": \"').replace('\" ', '\"').replace('\"\"', '\" \"').replace('},', '\"},').replace('}]', '\"}]').replace(\"\\\\\", \"\")\n",
    "    texto.append(texto_de_linea)\n",
    "\n",
    "ruta_nueva_reviews = os.path.join('C:\\\\Users\\\\Alañ\\\\Documents\\\\Henry\\\\Proyecto 1\\\\Data Limpia', 'reviews_usuarios.json')\n",
    "archivo = open(ruta_nueva_reviews, \"w\", encoding='utf-8')\n",
    "archivo.write('[' + '\\n')\n",
    "for i in range(len(texto)-1):\n",
    "    archivo.write(texto[i] + ',')\n",
    "archivo.write(texto[len(texto)-1])\n",
    "archivo.write(']' + '\\n')\n",
    "archivo.close()"
   ]
  },
  {
   "cell_type": "code",
   "execution_count": 9,
   "metadata": {},
   "outputs": [],
   "source": [
    "ruta_items = os.path.join('C:\\\\Users\\\\Alañ\\\\Documents\\\\Henry\\\\Proyecto 1\\\\Data', 'australian_users_items.json')\n",
    "with open(ruta_items, 'r', encoding='utf-8') as archivo:\n",
    "    lineas = archivo.readlines()\n",
    "texto = []\n",
    "for linea in lineas:\n",
    "    texto_de_linea = linea.replace(\"'\", '\"').replace('\"', '').replace('user_id: ',  '\"user_id\": \"').replace(', items_count: ',  '\", \"items_count\": \"').replace(', steam_id:',  '\", \"steam_id\":').replace(', user_url:',  '\", \"user_url\": \"').replace(', items:',  '\", \"items\":').replace('item_id:',  '\"item_id\": \"').replace(', item_name:',  '\", \"item_name\": \"').replace(', playtime_forever:',  '\", \"playtime_forever\": \"').replace(', playtime_2weeks:',  '\", \"playtime_2weeks\": \"').replace('\" ', '\"').replace('\"\"', '\" \"').replace('},', '\"},').replace('}]', '\"}]').replace(\"\\\\\", \"\")\n",
    "    texto.append(texto_de_linea)\n",
    "\n",
    "ruta_nueva_items = os.path.join('C:\\\\Users\\\\Alañ\\\\Documents\\\\Henry\\\\Proyecto 1\\\\Data Limpia', 'usuarios_items.json')\n",
    "archivo = open(ruta_nueva_items, \"w\", encoding='utf-8')\n",
    "archivo.write('[' + '\\n')\n",
    "for i in range(len(texto)-1):\n",
    "    archivo.write(texto[i] + ',')\n",
    "archivo.write(texto[len(texto)-1])\n",
    "archivo.write(']' + '\\n')\n",
    "archivo.close()"
   ]
  },
  {
   "cell_type": "code",
   "execution_count": null,
   "metadata": {},
   "outputs": [],
   "source": []
  }
 ],
 "metadata": {
  "kernelspec": {
   "display_name": "Python 3",
   "language": "python",
   "name": "python3"
  },
  "language_info": {
   "name": "python",
   "version": "3.11.3"
  }
 },
 "nbformat": 4,
 "nbformat_minor": 2
}
